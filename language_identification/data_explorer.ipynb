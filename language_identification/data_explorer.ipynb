{
 "cells": [
  {
   "cell_type": "code",
   "execution_count": null,
   "id": "2e943549",
   "metadata": {},
   "outputs": [],
   "source": [
    "import os\n",
    "from google.colab import drive\n",
    "from glob import glob \n",
    "from tqdm import notebook\n",
    "import sox\n",
    "from joblib import Parallel, delayed\n",
    "import pandas as pd\n",
    "import os\n",
    "import seaborn as sns\n",
    "drive.mount('/content/drive')"
   ]
  },
  {
   "cell_type": "code",
   "execution_count": null,
   "id": "8bda5f63",
   "metadata": {},
   "outputs": [],
   "source": [
    "os.makedirs('drive/MyDrive/lid_tutorial')"
   ]
  },
  {
   "cell_type": "code",
   "execution_count": null,
   "id": "181b7dc4",
   "metadata": {},
   "outputs": [],
   "source": [
    "!wget -P drive/MyDrive/lid_tutorial/ https://storage.googleapis.com/vakyaansh-open-models/lid_data/lid_data.zip"
   ]
  },
  {
   "cell_type": "code",
   "execution_count": null,
   "id": "eb2a8a0e",
   "metadata": {},
   "outputs": [],
   "source": [
    "!unzip drive/MyDrive/lid_tutorial/lid_data.zip -d drive/MyDrive/lid_tutorial/"
   ]
  },
  {
   "cell_type": "code",
   "execution_count": null,
   "id": "2583c6b2",
   "metadata": {},
   "outputs": [],
   "source": [
    "!sudo apt install sox"
   ]
  },
  {
   "cell_type": "code",
   "execution_count": null,
   "id": "7cc17ea1",
   "metadata": {},
   "outputs": [],
   "source": [
    "!pip install sox"
   ]
  },
  {
   "cell_type": "code",
   "execution_count": null,
   "id": "2f99bead",
   "metadata": {},
   "outputs": [],
   "source": [
    "audio_files = glob('drive/MyDrive/lid_tutorial/lid_data/*/*.wav')"
   ]
  },
  {
   "cell_type": "code",
   "execution_count": null,
   "id": "e7a40abf",
   "metadata": {},
   "outputs": [],
   "source": [
    "%%time\n",
    "audio_durations = [duration(f) for f in notebook.tqdm(audio_files, leave=False, total=len(audio_files))]"
   ]
  },
  {
   "cell_type": "code",
   "execution_count": null,
   "id": "ac3b7850",
   "metadata": {},
   "outputs": [],
   "source": [
    "%%time\n",
    "audio_durations = Parallel(n_jobs=os.cpu_count())(delayed(duration)(f) for f in notebook.tqdm(audio_files,\n",
    "                                                                                     leave=False, total=len(audio_files)))"
   ]
  },
  {
   "cell_type": "code",
   "execution_count": null,
   "id": "5de2ffb8",
   "metadata": {},
   "outputs": [],
   "source": [
    "audio_data = pd.DataFrame({'path': audio_files, 'duration': audio_durations})\n",
    "audio_data.head()"
   ]
  },
  {
   "cell_type": "code",
   "execution_count": null,
   "id": "0701c78d",
   "metadata": {},
   "outputs": [],
   "source": [
    "sns.distplot(audio_data['duration'])"
   ]
  },
  {
   "cell_type": "code",
   "execution_count": null,
   "id": "32c90f00",
   "metadata": {},
   "outputs": [],
   "source": [
    "sum(audio_data['duration']) / 3600"
   ]
  },
  {
   "cell_type": "code",
   "execution_count": null,
   "id": "cf36f4f3",
   "metadata": {},
   "outputs": [],
   "source": [
    "audio_data['language'] = audio_data['path'].apply(lambda x: x.split('/')[4])\n",
    "audio_data.head()"
   ]
  },
  {
   "cell_type": "code",
   "execution_count": null,
   "id": "156db29a",
   "metadata": {},
   "outputs": [],
   "source": [
    "dio_data.to_csv('drive/MyDrive/lid_tutorial/audio_data.csv', index=False)"
   ]
  }
 ],
 "metadata": {
  "kernelspec": {
   "display_name": "Python 3",
   "language": "python",
   "name": "python3"
  },
  "language_info": {
   "codemirror_mode": {
    "name": "ipython",
    "version": 3
   },
   "file_extension": ".py",
   "mimetype": "text/x-python",
   "name": "python",
   "nbconvert_exporter": "python",
   "pygments_lexer": "ipython3",
   "version": "3.9.1"
  }
 },
 "nbformat": 4,
 "nbformat_minor": 5
}
